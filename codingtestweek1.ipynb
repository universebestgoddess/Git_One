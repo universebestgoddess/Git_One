{
  "nbformat": 4,
  "nbformat_minor": 0,
  "metadata": {
    "colab": {
      "name": "codingtestweek1.ipynb",
      "provenance": [],
      "authorship_tag": "ABX9TyP/ofIYD6FX4Ha3LvUpu/CN",
      "include_colab_link": true
    },
    "kernelspec": {
      "name": "python3",
      "display_name": "Python 3"
    },
    "language_info": {
      "name": "python"
    }
  },
  "cells": [
    {
      "cell_type": "markdown",
      "metadata": {
        "id": "view-in-github",
        "colab_type": "text"
      },
      "source": [
        "<a href=\"https://colab.research.google.com/github/universebestgoddess/Git_One/blob/janghyeji/codingtestweek1.ipynb\" target=\"_parent\"><img src=\"https://colab.research.google.com/assets/colab-badge.svg\" alt=\"Open In Colab\"/></a>"
      ]
    },
    {
      "cell_type": "code",
      "source": [
        "from google.colab import drive\n",
        "drive.mount('/content/drive')"
      ],
      "metadata": {
        "colab": {
          "base_uri": "https://localhost:8080/"
        },
        "id": "AeuPuWhD4OI1",
        "outputId": "b677fac2-b836-4c7c-f99c-1233d9dfedb3"
      },
      "execution_count": 4,
      "outputs": [
        {
          "output_type": "stream",
          "name": "stdout",
          "text": [
            "Drive already mounted at /content/drive; to attempt to forcibly remount, call drive.mount(\"/content/drive\", force_remount=True).\n"
          ]
        }
      ]
    },
    {
      "cell_type": "code",
      "source": [
        "cd "
      ],
      "metadata": {
        "id": "UiwqstA845c4"
      },
      "execution_count": null,
      "outputs": []
    },
    {
      "cell_type": "code",
      "source": [
        "!git clone https://github.com/universebestgoddess/Git_One.git"
      ],
      "metadata": {
        "colab": {
          "base_uri": "https://localhost:8080/"
        },
        "id": "BO1Tz28F4aJY",
        "outputId": "5b357a72-8605-4f61-89b0-ce741cdd2af6"
      },
      "execution_count": null,
      "outputs": [
        {
          "output_type": "stream",
          "name": "stdout",
          "text": [
            "Cloning into 'Git_One'...\n",
            "remote: Enumerating objects: 223, done.\u001b[K\n",
            "remote: Counting objects: 100% (56/56), done.\u001b[K\n",
            "remote: Compressing objects: 100% (47/47), done.\u001b[K\n",
            "remote: Total 223 (delta 17), reused 25 (delta 6), pack-reused 167\u001b[K\n",
            "Receiving objects: 100% (223/223), 38.59 KiB | 1.75 MiB/s, done.\n",
            "Resolving deltas: 100% (91/91), done.\n"
          ]
        }
      ]
    },
    {
      "cell_type": "code",
      "source": [
        ""
      ],
      "metadata": {
        "id": "T8g_QL9h4pwK"
      },
      "execution_count": null,
      "outputs": []
    },
    {
      "cell_type": "code",
      "execution_count": null,
      "metadata": {
        "colab": {
          "base_uri": "https://localhost:8080/"
        },
        "id": "7PrgdrizdYl_",
        "outputId": "518be6fc-ae95-49b5-8bfd-ec48b84ebf2e"
      },
      "outputs": [
        {
          "output_type": "stream",
          "name": "stdout",
          "text": [
            "5\n",
            "0 1 1 2 3\n",
            "2 5 4 3 1\n"
          ]
        }
      ],
      "source": [
        "n = int(input())\n",
        "a = map(int, input().split())\n",
        "b = []\n",
        "\n",
        "for i, k in enumerate(a, start=1):\n",
        "    b.insert(k, i)\n",
        "print(*b[::-1])"
      ]
    },
    {
      "cell_type": "code",
      "source": [
        "n2 = int(input())\n",
        "alist = list(x for x in range(1,n2+1))\n",
        "blist = []\n",
        "for __ in range(k):\n",
        "    blist.append(alist[0])\n",
        "    if len(alist)!= 1:\n",
        "        del alist[0]\n",
        "        alist.append(alist[0])\n",
        "    del alist[0]\n",
        "    \n",
        "print(\" \".join(map(str, blist)))"
      ],
      "metadata": {
        "colab": {
          "base_uri": "https://localhost:8080/"
        },
        "id": "ulbj5tVcdsHR",
        "outputId": "4d128208-c443-42e5-a669-c61d280b896c"
      },
      "execution_count": null,
      "outputs": [
        {
          "output_type": "stream",
          "name": "stdout",
          "text": [
            "6\n",
            "1 3 5\n"
          ]
        }
      ]
    },
    {
      "cell_type": "code",
      "source": [
        "\n",
        "n3 = int(input()) \n",
        "stack = [] \n",
        "for __ in range(n3): \n",
        "    stack.append(int(input())) \n",
        "last = stack[-1] \n",
        "count = 1 \n",
        "    \n",
        "for i in reversed(range(n3)): \n",
        "    if stack[i] > last: \n",
        "        count += 1 \n",
        "        last = stack[i] \n",
        "print(count)"
      ],
      "metadata": {
        "colab": {
          "base_uri": "https://localhost:8080/"
        },
        "id": "8rRA0FyfffAU",
        "outputId": "5375e924-bcb5-4457-904a-0c9ccc90b7b5"
      },
      "execution_count": null,
      "outputs": [
        {
          "output_type": "stream",
          "name": "stdout",
          "text": [
            "6\n",
            "6\n",
            "9\n",
            "7\n",
            "6\n",
            "4\n",
            "6\n",
            "3\n"
          ]
        }
      ]
    },
    {
      "cell_type": "code",
      "source": [
        ""
      ],
      "metadata": {
        "id": "5tqf_SJ9g_-o"
      },
      "execution_count": null,
      "outputs": []
    }
  ]
}